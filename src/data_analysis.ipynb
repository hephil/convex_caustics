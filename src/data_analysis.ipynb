{
 "cells": [
  {
   "cell_type": "code",
   "execution_count": null,
   "id": "53a334f4",
   "metadata": {},
   "outputs": [],
   "source": [
    "import pandas as pd\n",
    "import matplotlib.pyplot as plt\n",
    "\n",
    "df2 = pd.read_csv('../build_release/old_centroid.log')\n",
    "plt.plot(df2['Iteration'], df2['Error'])\n",
    "\n",
    "df = pd.read_csv('../build_release/iterations.log')\n",
    "plt.plot(df['Iteration'], df['Error'])\n",
    "plt.xlabel('Iteration')\n",
    "plt.ylabel('Surface Error')\n",
    "plt.title('Surface Error over Iterations')\n",
    "plt.xlim(0, None)\n",
    "# plt.ylim(1e-20, None)\n",
    "plt.yscale('log')\n",
    "# plt.xscale('symlog')\n",
    "plt.grid(True)\n",
    "plt.show()\n"
   ]
  }
 ],
 "metadata": {
  "kernelspec": {
   "display_name": "jupyter",
   "language": "python",
   "name": "python3"
  },
  "language_info": {
   "codemirror_mode": {
    "name": "ipython",
    "version": 3
   },
   "file_extension": ".py",
   "mimetype": "text/x-python",
   "name": "python",
   "nbconvert_exporter": "python",
   "pygments_lexer": "ipython3",
   "version": "3.11.2"
  }
 },
 "nbformat": 4,
 "nbformat_minor": 5
}
