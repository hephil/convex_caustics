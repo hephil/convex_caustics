{
 "cells": [
  {
   "cell_type": "code",
   "execution_count": null,
   "id": "53a334f4",
   "metadata": {},
   "outputs": [],
   "source": [
    "import pandas as pd\n",
    "import matplotlib.pyplot as plt\n",
    "\n",
    "# to output a logfile, compile the program with -DLOGGING_ENABLED=TRUE\n",
    "logfiles = ['../examples/gradient8x8.log', '../examples/rings.log', '../examples/einstein.log']\n",
    "\n",
    "for logfile in logfiles:\n",
    "    df = pd.read_csv(logfile)\n",
    "    plt.plot(df['Iteration'], df['Error'])\n",
    "plt.xlabel('Iteration')\n",
    "plt.ylabel('Surface Error')\n",
    "plt.title('Surface Error over Iterations')\n",
    "plt.xlim(0, None)\n",
    "# plt.ylim(1e-20, None)\n",
    "# plt.yscale('log')\n",
    "plt.xscale('symlog', linthresh=100)\n",
    "plt.grid(True)\n",
    "plt.show()\n"
   ]
  },
  {
   "cell_type": "code",
   "execution_count": null,
   "id": "c71c3b82",
   "metadata": {},
   "outputs": [],
   "source": [
    "# quick and dirty converter for pgm files data region\n",
    "a = \"\"\"55\n",
    "55\n",
    "55\n",
    "55\n",
    "55\n",
    "55\n",
    "55\n",
    "55\n",
    "55\n",
    "55\n",
    "55\n",
    "55\n",
    "55\n",
    "55\n",
    "55\n",
    "55\n",
    "55\n",
    "55\n",
    "55\n",
    "55\n",
    "55\n",
    "55\n",
    "55\n",
    "55\n",
    "55\n",
    "\"\"\"\n",
    "\n",
    "import math\n",
    "\n",
    "b = a.split('\\n')\n",
    "l = math.isqrt(len(b))\n",
    "c = [ [ f\"{int(b[i*l+j]):>3}\" for j in range(0, l) ] for i in range(0, l)]\n",
    "\n",
    "d = [ ' '.join(ci) for ci in c ]\n",
    "e = '\\n'.join(d)\n",
    "\n",
    "print(e)\n",
    "\n"
   ]
  }
 ],
 "metadata": {
  "kernelspec": {
   "display_name": "jupyter",
   "language": "python",
   "name": "python3"
  },
  "language_info": {
   "codemirror_mode": {
    "name": "ipython",
    "version": 3
   },
   "file_extension": ".py",
   "mimetype": "text/x-python",
   "name": "python",
   "nbconvert_exporter": "python",
   "pygments_lexer": "ipython3",
   "version": "3.11.2"
  }
 },
 "nbformat": 4,
 "nbformat_minor": 5
}
